{
 "cells": [
  {
   "cell_type": "markdown",
   "metadata": {},
   "source": [
    "# Estimating Ordinary Differential Equations using Runge-Kutta methods\n",
    "\n",
    "For this project, I implemented four different methods of differential equation approximation in C++:\n",
    "- Euler's Method (First-Order Runge-Kutta Method)\n",
    "- Second-Order Runge-Kutta Method\n",
    "- Third-Order Runge-Kutta Method\n",
    "- Fourth-Order Runge-Kutta Method\n",
    "\n",
    "which I will refer to as RK1, RK2, RK3, and RK4 respectively.\n",
    "\n",
    "The goal of this project is to demonstrate the **trade-off in computational efficiency for increased accuracy with a constant step size** as the complexity of the estimation method increases."
   ]
  },
  {
   "cell_type": "code",
   "execution_count": 1,
   "metadata": {},
   "outputs": [],
   "source": [
    "#include <iostream>\n",
    "#include <cmath>\n",
    "#include <vector>\n",
    "\n",
    "// (x,y)\n",
    "struct pair {\n",
    "    double x;\n",
    "    double y;\n",
    "};"
   ]
  },
  {
   "cell_type": "markdown",
   "metadata": {},
   "source": [
    "First, we define an ordered pair as a fundamental data structure. We will use this to store points in C++."
   ]
  },
  {
   "cell_type": "code",
   "execution_count": null,
   "metadata": {},
   "outputs": [],
   "source": [
    "// y' = axy (Separable)\n",
    "class DifferentialEquation {\n",
    "private:\n",
    "    double a;\n",
    "public:\n",
    "    DifferentialEquation(double d) {\n",
    "        a = d;\n",
    "    }\n",
    "    \n",
    "    double diff(double x, double y) {\n",
    "        return x*y;\n",
    "    }\n",
    "};"
   ]
  },
  {
   "cell_type": "code",
   "execution_count": 2,
   "metadata": {},
   "outputs": [],
   "source": [
    "// ay' + bxy = cx (First-Order Linear)\n",
    "class DifferentialEquation {\n",
    "private:\n",
    "    double a, b, c;\n",
    "public:\n",
    "    DifferentialEquation(double d, double e, double f) {\n",
    "        a = d;\n",
    "        b = e;\n",
    "        c = f;\n",
    "    }\n",
    "\n",
    "    // evaluates y' = ( cx - bxy ) / a\n",
    "    double diff(double x, double y) {\n",
    "        return ( c * x - b * x * y ) / a;\n",
    "    }\n",
    "};"
   ]
  },
  {
   "cell_type": "markdown",
   "metadata": {},
   "source": [
    "Next, we use classes to represent two basic first-order linear differential equation of the form ay'+bxy=cx and y' = axy. The differentiation method, DE.diff(),evaluates the re-ordered expression: `y'=xy` or `y' = f(x,y) = ( cx - bxy ) / a`."
   ]
  },
  {
   "cell_type": "code",
   "execution_count": 3,
   "metadata": {},
   "outputs": [],
   "source": [
    "pair rk1(DifferentialEquation DE, double h, pair ivp, double target) {\n",
    "    pair approx = ivp;\n",
    "    double steps = ( target - ivp.x ) / h;\n",
    "    for(int i=0; i < steps; i++) {\n",
    "        approx.y += h * DE.diff(approx.x, approx.y);\n",
    "        approx.x += h;\n",
    "        std::cout << \"step = \" << i << \", x = \" << approx.x << \", y = \" << approx.y << std::endl;\n",
    "    }\n",
    "    return approx;\n",
    "}"
   ]
  },
  {
   "cell_type": "markdown",
   "metadata": {},
   "source": [
    "Now we define RK1. (Euler's) `rk1(DE, h, ivp, target)` takes 4 parameters, a defined DE, an h value, an initial value pair, (start point) and target x value. The approximate's x is incremented by stepsof size h, while the y value is incremented by `h*f(x,y)`. The final pair generated is returned."
   ]
  },
  {
   "cell_type": "code",
   "execution_count": 4,
   "metadata": {},
   "outputs": [],
   "source": [
    "pair rk2(DifferentialEquation DE, double h, pair ivp, double target) {\n",
    "    pair approx = ivp;\n",
    "    double steps = ( target - ivp.x ) / h;\n",
    "    double F1, F2;\n",
    "    for(int i=0; i < steps; i++) {\n",
    "        F1 = h * DE.diff(approx.x, approx.y);\n",
    "        F2 = h * DE.diff((approx.x + h), (approx.y + F1));\n",
    "        approx.y += (F1+F2)/2;\n",
    "        approx.x += h;\n",
    "        std::cout << \"step = \" << i << \", x = \" << approx.x << \", y = \" << approx.y << std::endl;\n",
    "    }\n",
    "    return approx;\n",
    "}"
   ]
  },
  {
   "cell_type": "markdown",
   "metadata": {},
   "source": [
    "Next, we define RK2 which is given by the equation:\n",
    "img"
   ]
  },
  {
   "cell_type": "code",
   "execution_count": 5,
   "metadata": {},
   "outputs": [],
   "source": [
    "pair rk3(DifferentialEquation DE, double h, pair ivp, double target) {\n",
    "    pair approx = ivp;\n",
    "    double steps = ( target - ivp.x ) / h;\n",
    "    double F1, F2, F3;\n",
    "    for(int i=0; i < steps; i++) {\n",
    "        F1 = h * DE.diff(approx.x, approx.y);\n",
    "        F2 = h * DE.diff((approx.x + (0.5*h)), (approx.y + (0.5*F1)));\n",
    "        F3 = h * DE.diff((approx.x + (0.75*h)), (approx.y + (0.75*F2)));\n",
    "        approx.y += (2*F1+3*F2+4*F3)/9;\n",
    "        approx.x += h;\n",
    "        std::cout << \"step = \" << i << \", x = \" << approx.x << \", y = \" << approx.y << std::endl;\n",
    "    }\n",
    "    return approx;\n",
    "}"
   ]
  },
  {
   "cell_type": "markdown",
   "metadata": {},
   "source": [
    "RK3 is given by the equation: img"
   ]
  },
  {
   "cell_type": "code",
   "execution_count": 6,
   "metadata": {},
   "outputs": [],
   "source": [
    "pair rk4(DifferentialEquation DE, double h, pair ivp, double target) {\n",
    "    pair approx = ivp;\n",
    "    double steps = ( target - ivp.x ) / h;\n",
    "    double F1, F2, F3, F4;\n",
    "    for(int i=0; i < steps; i++) {\n",
    "        F1 = h * DE.diff(approx.x, approx.y);\n",
    "        F2 = h * DE.diff((approx.x + (0.5*h)), (approx.y + (0.5*F1)));\n",
    "        F3 = h * DE.diff((approx.x + (0.5*h)), (approx.y + (0.5*F2)));\n",
    "        F4 = h * DE.diff((approx.x + h), (approx.y + F3));\n",
    "        approx.y += (F1+2*F2+2*F3+F4)/6;\n",
    "        approx.x += h;\n",
    "        std::cout << \"step = \" << i << \", x = \" << approx.x << \", y = \" << approx.y << std::endl;\n",
    "    }\n",
    "    return approx;\n",
    "}"
   ]
  },
  {
   "cell_type": "markdown",
   "metadata": {},
   "source": [
    "RK4:"
   ]
  },
  {
   "cell_type": "code",
   "execution_count": 7,
   "metadata": {},
   "outputs": [],
   "source": [
    "double error(pair observed, pair expected) {\n",
    "    return std::abs(expected.y - observed.y);\n",
    "}"
   ]
  },
  {
   "cell_type": "markdown",
   "metadata": {},
   "source": [
    "Finally, we declare a function used to measure the error of the estimation method. *Requires knowing the exact solution.*"
   ]
  },
  {
   "cell_type": "code",
   "execution_count": 8,
   "metadata": {},
   "outputs": [],
   "source": [
    "#include \"xwidgets/xnumeral.hpp\"\n",
    "#include \"xwidgets/xslider.hpp\"\n",
    "\n",
    "xw::numeral<double> a;\n",
    "a.description = \"a coefficient:\";\n",
    "\n",
    "xw::numeral<double> b;\n",
    "b.description = \"b coefficient:\";\n",
    "\n",
    "xw::numeral<double> c;\n",
    "c.description = \"c coefficient:\";\n",
    "\n",
    "xw::numeral<double> x;\n",
    "x.description = \"IVP x value:\";\n",
    "\n",
    "xw::numeral<double> y;\n",
    "y.description = \"IVP y value:\";\n",
    "\n",
    "xw::numeral<double> target;\n",
    "target.description = \"Target x:\";\n",
    "\n",
    "xw::slider<double> h;\n",
    "h.max = 1;\n",
    "h.step = 0.01;\n",
    "h.description = \"h step:\";"
   ]
  },
  {
   "cell_type": "markdown",
   "metadata": {},
   "source": [
    "Use the UI below to define the DE coefficients, IVP, target, and step size:"
   ]
  },
  {
   "cell_type": "code",
   "execution_count": 9,
   "metadata": {},
   "outputs": [
    {
     "data": {
      "application/vnd.jupyter.widget-view+json": {
       "model_id": "b74bfe65b05643a7a9dab85f7776d7ea",
       "version_major": 2,
       "version_minor": 0
      },
      "text/plain": [
       "A Jupyter widget"
      ]
     },
     "metadata": {},
     "output_type": "display_data"
    },
    {
     "data": {
      "application/vnd.jupyter.widget-view+json": {
       "model_id": "d831b98ca1384716921e3d0fdcb2b0a5",
       "version_major": 2,
       "version_minor": 0
      },
      "text/plain": [
       "A Jupyter widget"
      ]
     },
     "metadata": {},
     "output_type": "display_data"
    },
    {
     "data": {
      "application/vnd.jupyter.widget-view+json": {
       "model_id": "74f172cbb15c495b8db3c723edf4950f",
       "version_major": 2,
       "version_minor": 0
      },
      "text/plain": [
       "A Jupyter widget"
      ]
     },
     "metadata": {},
     "output_type": "display_data"
    }
   ],
   "source": [
    "#include \"xcpp/xdisplay.hpp\"\n",
    "using xcpp::display;\n",
    "\n",
    "display(a);\n",
    "display(b);\n",
    "display(c);"
   ]
  },
  {
   "cell_type": "code",
   "execution_count": 10,
   "metadata": {},
   "outputs": [
    {
     "data": {
      "application/vnd.jupyter.widget-view+json": {
       "model_id": "d41eefc3f9394ca1bfb96081c0cea124",
       "version_major": 2,
       "version_minor": 0
      },
      "text/plain": [
       "A Jupyter widget"
      ]
     },
     "metadata": {},
     "output_type": "display_data"
    },
    {
     "data": {
      "application/vnd.jupyter.widget-view+json": {
       "model_id": "8a07709f9b3544378bbd6a44c3757d79",
       "version_major": 2,
       "version_minor": 0
      },
      "text/plain": [
       "A Jupyter widget"
      ]
     },
     "metadata": {},
     "output_type": "display_data"
    },
    {
     "data": {
      "application/vnd.jupyter.widget-view+json": {
       "model_id": "b2e9d6210e8c4491b95ea05d6087ac1c",
       "version_major": 2,
       "version_minor": 0
      },
      "text/plain": [
       "A Jupyter widget"
      ]
     },
     "metadata": {},
     "output_type": "display_data"
    },
    {
     "data": {
      "application/vnd.jupyter.widget-view+json": {
       "model_id": "f3059d99a50648638dfce034be8d6cc0",
       "version_major": 2,
       "version_minor": 0
      },
      "text/plain": [
       "A Jupyter widget"
      ]
     },
     "metadata": {},
     "output_type": "display_data"
    }
   ],
   "source": [
    "display(x);\n",
    "display(y);\n",
    "display(target);\n",
    "display(h);"
   ]
  },
  {
   "cell_type": "code",
   "execution_count": null,
   "metadata": {},
   "outputs": [],
   "source": [
    "DifferentialEquation DE(a.value()); // Separable"
   ]
  },
  {
   "cell_type": "code",
   "execution_count": 11,
   "metadata": {},
   "outputs": [],
   "source": [
    "DifferentialEquation DE(a.value(), b.value(), c.value()); // First order linear"
   ]
  },
  {
   "cell_type": "code",
   "execution_count": 12,
   "metadata": {
    "scrolled": true
   },
   "outputs": [
    {
     "name": "stdout",
     "output_type": "stream",
     "text": [
      "step = 0, x = 3.1, y = 2.5\n",
      "step = 1, x = 3.2, y = 1.88\n",
      "step = 2, x = 3.3, y = 1.6368\n",
      "step = 3, x = 3.4, y = 1.54651\n",
      "step = 4, x = 3.5, y = 1.51488\n",
      "step = 0, x = 3.1, y = 2.94\n",
      "step = 1, x = 3.2, y = 2.3185\n",
      "step = 2, x = 3.3, y = 1.95934\n",
      "step = 3, x = 3.4, y = 1.75466\n",
      "step = 4, x = 3.5, y = 1.63955\n",
      "step = 0, x = 3.1, y = 2.84634\n",
      "step = 1, x = 3.2, y = 2.20967\n",
      "step = 2, x = 3.3, y = 1.86607\n",
      "step = 3, x = 3.4, y = 1.68476\n",
      "step = 4, x = 3.5, y = 1.59122\n",
      "step = 0, x = 3.1, y = 2.85997\n",
      "step = 1, x = 3.2, y = 2.22532\n",
      "step = 2, x = 3.3, y = 1.87928\n",
      "step = 3, x = 3.4, y = 1.69446\n",
      "step = 4, x = 3.5, y = 1.59777\n",
      "Approximated value: (3.5, 1.51488)\n",
      "Error was: 0.0821162\n",
      "Approximated value: (3.5, 1.63955)\n",
      "Error was: 0.0425526\n",
      "Approximated value: (3.5, 1.59122)\n",
      "Error was: 0.00578461\n",
      "Approximated value: (3.5, 1.59777)\n",
      "Error was: 0.000765277\n"
     ]
    }
   ],
   "source": [
    "// Define IVP\n",
    "pair ivp; \n",
    "ivp.x = x.value(); \n",
    "ivp.y = y.value();\n",
    "\n",
    "// Approximate Value\n",
    "pair ans1 = rk1(DE, h.value(), ivp, target.value());\n",
    "pair ans2 = rk2(DE, h.value(), ivp, target.value());\n",
    "pair ans3 = rk3(DE, h.value(), ivp, target.value());\n",
    "pair ans4 = rk4(DE, h.value(), ivp, target.value());\n",
    "\n",
    "// Calculate Error\n",
    "pair soln;\n",
    "soln.x = 3.5;\n",
    "soln.y = 1.597; // Replace this with desired comparison point \n",
    "double err1 = error(ans1, soln);\n",
    "double err2 = error(ans2, soln);\n",
    "double err3 = error(ans3, soln);\n",
    "double err4 = error(ans4, soln);\n",
    "\n",
    "std::cout << \"Approximated value: (\" << ans1.x << \", \" << ans1.y << \")\" << std::endl;\n",
    "std::cout << \"Error was: \" << err1 << std::endl;\n",
    "std::cout << \"Approximated value: (\" << ans2.x << \", \" << ans2.y << \")\" << std::endl;\n",
    "std::cout << \"Error was: \" << err2 << std::endl;\n",
    "std::cout << \"Approximated value: (\" << ans3.x << \", \" << ans3.y << \")\" << std::endl;\n",
    "std::cout << \"Error was: \" << err3 << std::endl;\n",
    "std::cout << \"Approximated value: (\" << ans4.x << \", \" << ans4.y << \")\" << std::endl;\n",
    "std::cout << \"Error was: \" << err4 << std::endl;"
   ]
  },
  {
   "cell_type": "markdown",
   "metadata": {},
   "source": [
    "Timing of algorithms:"
   ]
  },
  {
   "cell_type": "code",
   "execution_count": null,
   "metadata": {},
   "outputs": [],
   "source": [
    "%timeit -n 10 -r 1 -p 6 rk1(DE, h.value(), ivp, target.value());"
   ]
  },
  {
   "cell_type": "code",
   "execution_count": null,
   "metadata": {},
   "outputs": [],
   "source": [
    "%timeit -n 10 -r 1 -p 6 rk2(DE, h.value(), ivp, target.value());"
   ]
  },
  {
   "cell_type": "code",
   "execution_count": null,
   "metadata": {},
   "outputs": [],
   "source": [
    "%timeit -n 10 -r 1 -p 6 rk3(DE, h.value(), ivp, target.value());"
   ]
  },
  {
   "cell_type": "code",
   "execution_count": null,
   "metadata": {},
   "outputs": [],
   "source": [
    "%timeit -n 10 -r 1 -p 6 rk4(DE, h.value(), ivp, target.value());"
   ]
  },
  {
   "cell_type": "markdown",
   "metadata": {},
   "source": [
    "Visualizing:"
   ]
  },
  {
   "cell_type": "code",
   "execution_count": null,
   "metadata": {},
   "outputs": [],
   "source": [
    "std::vector<double> rk1_store(DifferentialEquation DE, \n",
    "                              double h, \n",
    "                              pair ivp, \n",
    "                              double target,\n",
    "                              std::size_t size,\n",
    "                              bool x) {\n",
    "    std::vector<double> store(size);\n",
    "    pair approx = ivp;\n",
    "    double steps = ( target - ivp.x ) / h;\n",
    "    for(int i=0; i < steps; i++) {\n",
    "        approx.y += h * DE.diff(approx.x, approx.y);\n",
    "        approx.x += h;\n",
    "        if (x) store.push_back(approx.x);\n",
    "        else store.push_back(approx.y);\n",
    "    }\n",
    "    return store;\n",
    "}"
   ]
  },
  {
   "cell_type": "markdown",
   "metadata": {},
   "source": []
  },
  {
   "cell_type": "code",
   "execution_count": null,
   "metadata": {},
   "outputs": [],
   "source": [
    "#include \"random.hpp\"\n",
    "#include \"xplot/xfigure.hpp\"\n",
    "#include \"xplot/xmarks.hpp\"\n",
    "#include \"xplot/xaxes.hpp\"\n",
    "\n",
    "std::size_t size = 10;\n",
    "std::vector<double> x_data(size);\n",
    "std::iota(x_data.begin(), x_data.end(), 0);\n",
    "std::vector<double> y_data = randn(size);\n",
    "\n",
    "xpl::linear_scale sx, sy;\n",
    "auto ax_x = xpl::axis_generator(sx)\n",
    "    .label(\"x\")\n",
    "    .finalize();\n",
    "auto ax_y = xpl::axis_generator(sy)\n",
    "    .label(\"y\")\n",
    "    .orientation(\"vertical\")\n",
    "    .side(\"left\")\n",
    "    .finalize();\n",
    "\n",
    "auto scatter1 = xpl::scatter_generator(sx, sy)\n",
    "   .x(x_data)\n",
    "   .y(y_data)\n",
    "   .finalize();\n",
    "\n",
    "auto fig1 = xpl::figure_generator()\n",
    "    .padding_x(0.025)\n",
    "    .padding_y(0.025)\n",
    "    .finalize();\n",
    "fig1.add_mark(scatter1);\n",
    "fig1.add_axis(ax_x);\n",
    "fig1.add_axis(ax_y);\n",
    "fig1"
   ]
  },
  {
   "cell_type": "code",
   "execution_count": null,
   "metadata": {},
   "outputs": [],
   "source": []
  },
  {
   "cell_type": "code",
   "execution_count": null,
   "metadata": {},
   "outputs": [],
   "source": []
  },
  {
   "cell_type": "code",
   "execution_count": null,
   "metadata": {},
   "outputs": [],
   "source": []
  },
  {
   "cell_type": "code",
   "execution_count": null,
   "metadata": {},
   "outputs": [],
   "source": []
  },
  {
   "cell_type": "code",
   "execution_count": null,
   "metadata": {},
   "outputs": [],
   "source": []
  }
 ],
 "metadata": {
  "kernelspec": {
   "display_name": "C++14",
   "language": "C++14",
   "name": "xcpp14"
  },
  "language_info": {
   "codemirror_mode": "text/x-c++src",
   "file_extension": ".cpp",
   "mimetype": "text/x-c++src",
   "name": "c++",
   "version": "-std=c++14"
  }
 },
 "nbformat": 4,
 "nbformat_minor": 2
}
