{
 "cells": [
  {
   "cell_type": "markdown",
   "metadata": {},
   "source": [
    "# Estimating Ordinary Differential Equations using Runge-Kutta methods\n",
    "\n",
    "For this project, I implemented four different methods of differential equation approximation in C++:\n",
    "- Euler's Method (First-Order Runge-Kutta Method)\n",
    "- Second-Order Runge-Kutta Method\n",
    "- Third-Order Runge-Kutta Method\n",
    "- Fourth-Order Runge-Kutta Method\n",
    "which I will refer to as RK1, RK2, RK3, and RK4 respectively.\n",
    "\n",
    "The goal of this project is to demonstrate the **trade-off in computational efficiency for increased accuracy with a constant step size** as the complexity of the estimation method increases."
   ]
  },
  {
   "cell_type": "code",
   "execution_count": 1,
   "metadata": {},
   "outputs": [],
   "source": [
    "#include <iostream>\n",
    "#include <cmath>\n",
    "#include <vector>\n",
    "\n",
    "//(x,y)\n",
    "struct pair {\n",
    "    double x;\n",
    "    double y;\n",
    "};"
   ]
  },
  {
   "cell_type": "markdown",
   "metadata": {},
   "source": [
    "First, we define an ordered pair as a fundamental data structure. We will use this to store points in C++."
   ]
  },
  {
   "cell_type": "code",
   "execution_count": null,
   "metadata": {},
   "outputs": [],
   "source": [
    "//y' = axy (Separable)\n",
    "class DifferentialEquation {\n",
    "private:\n",
    "    double a;\n",
    "public:\n",
    "    double diff(double x, double y) {\n",
    "        return x*y;\n",
    "    }\n",
    "};"
   ]
  },
  {
   "cell_type": "code",
   "execution_count": 2,
   "metadata": {},
   "outputs": [],
   "source": [
    "//ay' + bxy = cx (First-Order Linear)\n",
    "class DifferentialEquation {\n",
    "private:\n",
    "    double a, b, c;\n",
    "public:\n",
    "    DifferentialEquation(double d, double e, double f) {\n",
    "        a = d;\n",
    "        b = e;\n",
    "        c = f;\n",
    "    }\n",
    "\n",
    "    // evaluates y' = ( cx - bxy ) / a\n",
    "    double diff(double x, double y) {\n",
    "        return ( c * x - b * x * y ) / a;\n",
    "    }\n",
    "};"
   ]
  },
  {
   "cell_type": "markdown",
   "metadata": {},
   "source": [
    "Next, we use a class to represent a basic first-order linear differential equation of the form ay'+bxy=cx. The differentiation method, DE.diff(),evaluates the re-ordered expression: `y' = f(x,y) = ( cx - bxy ) / a`."
   ]
  },
  {
   "cell_type": "code",
   "execution_count": 3,
   "metadata": {},
   "outputs": [],
   "source": [
    "pair rk1(DifferentialEquation DE, double h, pair ivp, double target) {\n",
    "    pair approx = ivp;\n",
    "    double steps = ( target - ivp.x ) / h;\n",
    "    for(int i=0; i < steps; i++) {\n",
    "        approx.y += h * DE.diff(approx.x, approx.y);\n",
    "        std::cout << approx.y << std::endl;\n",
    "        approx.x += h;\n",
    "    }\n",
    "    return approx;\n",
    "}"
   ]
  },
  {
   "cell_type": "markdown",
   "metadata": {},
   "source": [
    "Now we define RK1. (Euler's) `rk1(DE, h, ivp, target)` takes 4 parameters, a defined DE, an h value, an initial value pair, (start point) and target x value. The approximate's x is incremented by steps of size h, while the y value is incremented by `h*f(x,y)`. The final pair generated is returned."
   ]
  },
  {
   "cell_type": "code",
   "execution_count": 4,
   "metadata": {},
   "outputs": [],
   "source": [
    "pair rk2(DifferentialEquation DE, double h, pair ivp, double target) {\n",
    "    pair approx = ivp;\n",
    "    double steps = ( target - ivp.x ) / h;\n",
    "    double F1, F2;\n",
    "    for(int i=0; i < steps; i++) {\n",
    "        F1 = h * DE.diff(approx.x, approx.y);\n",
    "        F2 = h * DE.diff((approx.x + h), (approx.y + F1));\n",
    "        approx.y += (F1+F2)/2;\n",
    "        std::cout << approx.y << std::endl;\n",
    "        approx.x += h;\n",
    "    }\n",
    "    return approx;\n",
    "}"
   ]
  },
  {
   "cell_type": "code",
   "execution_count": 5,
   "metadata": {},
   "outputs": [],
   "source": [
    "pair rk3(DifferentialEquation DE, double h, pair ivp, double target) {\n",
    "    pair approx = ivp;\n",
    "    double steps = ( target - ivp.x ) / h;\n",
    "    double F1, F2, F3;\n",
    "    for(int i=0; i < steps; i++) {\n",
    "        F1 = h * DE.diff(approx.x, approx.y);\n",
    "        F2 = h * DE.diff((approx.x + (0.5*h)), (approx.y + (0.5*F1)));\n",
    "        F3 = h * DE.diff((approx.x + (0.75*h)), (approx.y + (0.75*F2)));\n",
    "        approx.y += (2*F1+3*F2+4*F3)/9;\n",
    "        std::cout << approx.y << std::endl;\n",
    "        approx.x += h;\n",
    "    }\n",
    "    return approx;\n",
    "}"
   ]
  },
  {
   "cell_type": "code",
   "execution_count": 6,
   "metadata": {},
   "outputs": [],
   "source": [
    "pair rk4(DifferentialEquation DE, double h, pair ivp, double target) {\n",
    "    pair approx = ivp;\n",
    "    double steps = ( target - ivp.x ) / h;\n",
    "    double F1, F2, F3, F4;\n",
    "    for(int i=0; i < steps; i++) {\n",
    "        F1 = h * DE.diff(approx.x, approx.y);\n",
    "        F2 = h * DE.diff((approx.x + (0.5*h)), (approx.y + (0.5*F1)));\n",
    "        F3 = h * DE.diff((approx.x + (0.5*h)), (approx.y + (0.5*F2)));\n",
    "        F4 = h * DE.diff((approx.x + h), (approx.y + F3));\n",
    "        approx.y += (F1+2*F2+2*F3+F4)/6;\n",
    "        std::cout << approx.y << std::endl;\n",
    "        approx.x += h;\n",
    "    }\n",
    "    return approx;\n",
    "}"
   ]
  },
  {
   "cell_type": "markdown",
   "metadata": {},
   "source": [
    "X"
   ]
  },
  {
   "cell_type": "code",
   "execution_count": 7,
   "metadata": {},
   "outputs": [],
   "source": [
    "double error(pair observed, pair expected) {\n",
    "    return std::abs(expected.y - observed.y);\n",
    "}"
   ]
  },
  {
   "cell_type": "markdown",
   "metadata": {},
   "source": [
    "Finally, we declare a function used to measure the error of the estimation method. *Requires knowing the exact solution.*"
   ]
  },
  {
   "cell_type": "code",
   "execution_count": 8,
   "metadata": {},
   "outputs": [],
   "source": [
    "#include \"xwidgets/xnumeral.hpp\"\n",
    "#include \"xwidgets/xslider.hpp\"\n",
    "\n",
    "xw::numeral<double> a;\n",
    "a.description = \"a coefficient:\";\n",
    "\n",
    "xw::numeral<double> b;\n",
    "b.description = \"b coefficient:\";\n",
    "\n",
    "xw::numeral<double> c;\n",
    "c.description = \"c coefficient:\";\n",
    "\n",
    "xw::numeral<double> x;\n",
    "x.description = \"IVP x value:\";\n",
    "\n",
    "xw::numeral<double> y;\n",
    "y.description = \"IVP y value:\";\n",
    "\n",
    "xw::numeral<double> target;\n",
    "target.description = \"Target x:\";\n",
    "\n",
    "xw::slider<double> h;\n",
    "h.max = 1;\n",
    "h.step = 0.01;\n",
    "h.description = \"h step:\";"
   ]
  },
  {
   "cell_type": "code",
   "execution_count": 9,
   "metadata": {},
   "outputs": [
    {
     "data": {
      "application/vnd.jupyter.widget-view+json": {
       "model_id": "30a851be00ec47e0a3a9da694e730715",
       "version_major": 2,
       "version_minor": 0
      },
      "text/plain": [
       "A Jupyter widget"
      ]
     },
     "metadata": {},
     "output_type": "display_data"
    },
    {
     "data": {
      "application/vnd.jupyter.widget-view+json": {
       "model_id": "6056412b0e134db08bec3193ecd4bbcb",
       "version_major": 2,
       "version_minor": 0
      },
      "text/plain": [
       "A Jupyter widget"
      ]
     },
     "metadata": {},
     "output_type": "display_data"
    },
    {
     "data": {
      "application/vnd.jupyter.widget-view+json": {
       "model_id": "f2a4ca09c5d7444e806436549168f61f",
       "version_major": 2,
       "version_minor": 0
      },
      "text/plain": [
       "A Jupyter widget"
      ]
     },
     "metadata": {},
     "output_type": "display_data"
    }
   ],
   "source": [
    "#include \"xcpp/xdisplay.hpp\"\n",
    "using xcpp::display;\n",
    "\n",
    "display(a);\n",
    "display(b);\n",
    "display(c);"
   ]
  },
  {
   "cell_type": "code",
   "execution_count": 10,
   "metadata": {},
   "outputs": [
    {
     "data": {
      "application/vnd.jupyter.widget-view+json": {
       "model_id": "b7443b642b3041e899c49270e445d6a4",
       "version_major": 2,
       "version_minor": 0
      },
      "text/plain": [
       "A Jupyter widget"
      ]
     },
     "metadata": {},
     "output_type": "display_data"
    },
    {
     "data": {
      "application/vnd.jupyter.widget-view+json": {
       "model_id": "4ecb9c84ccbe455f8f174eda3b4b3b69",
       "version_major": 2,
       "version_minor": 0
      },
      "text/plain": [
       "A Jupyter widget"
      ]
     },
     "metadata": {},
     "output_type": "display_data"
    },
    {
     "data": {
      "application/vnd.jupyter.widget-view+json": {
       "model_id": "920432b2df944a6087a81373e627aa1f",
       "version_major": 2,
       "version_minor": 0
      },
      "text/plain": [
       "A Jupyter widget"
      ]
     },
     "metadata": {},
     "output_type": "display_data"
    },
    {
     "data": {
      "application/vnd.jupyter.widget-view+json": {
       "model_id": "37d6b6892fb8465ba280909479a851ec",
       "version_major": 2,
       "version_minor": 0
      },
      "text/plain": [
       "A Jupyter widget"
      ]
     },
     "metadata": {},
     "output_type": "display_data"
    }
   ],
   "source": [
    "display(x);\n",
    "display(y);\n",
    "display(target);\n",
    "display(h);"
   ]
  },
  {
   "cell_type": "code",
   "execution_count": 11,
   "metadata": {},
   "outputs": [
    {
     "name": "stdout",
     "output_type": "stream",
     "text": [
      "2.5\n",
      "1.88\n",
      "1.6368\n",
      "1.54651\n",
      "1.51488\n",
      "2.94\n",
      "2.3185\n",
      "1.95934\n",
      "1.75466\n",
      "1.63955\n",
      "2.84634\n",
      "2.20967\n",
      "1.86607\n",
      "1.68476\n",
      "1.59122\n",
      "2.85997\n",
      "2.22532\n",
      "1.87928\n",
      "1.69446\n",
      "1.59777\n",
      "Approximated value: (3.5, 1.51488)\n",
      "Error was: 0.0821162\n",
      "Approximated value: (3.5, 1.63955)\n",
      "Error was: 0.0425526\n",
      "Approximated value: (3.5, 1.59122)\n",
      "Error was: 0.00578461\n",
      "Approximated value: (3.5, 1.59777)\n",
      "Error was: 0.000765277\n"
     ]
    }
   ],
   "source": [
    "// Define IVP\n",
    "pair ivp; \n",
    "ivp.x = x.value(); \n",
    "ivp.y = y.value();\n",
    "\n",
    "// Approximate Value\n",
    "DifferentialEquation DE(a.value(), b.value(), c.value());\n",
    "pair ans1 = rk1(DE, h.value(), ivp, target.value());\n",
    "pair ans2 = rk2(DE, h.value(), ivp, target.value());\n",
    "pair ans3 = rk3(DE, h.value(), ivp, target.value());\n",
    "pair ans4 = rk4(DE, h.value(), ivp, target.value());\n",
    "\n",
    "\n",
    "// Calculate Error\n",
    "pair soln; \n",
    "soln.x = 3.5;\n",
    "soln.y = 1.597;\n",
    "double err1 = error(ans1, soln);\n",
    "double err2 = error(ans2, soln);\n",
    "double err3 = error(ans3, soln);\n",
    "double err4 = error(ans4, soln);\n",
    "\n",
    "std::cout << \"Approximated value: (\" << ans1.x << \", \" << ans1.y << \")\" << std::endl;\n",
    "std::cout << \"Error was: \" << err1 << std::endl;\n",
    "std::cout << \"Approximated value: (\" << ans2.x << \", \" << ans2.y << \")\" << std::endl;\n",
    "std::cout << \"Error was: \" << err2 << std::endl;\n",
    "std::cout << \"Approximated value: (\" << ans3.x << \", \" << ans3.y << \")\" << std::endl;\n",
    "std::cout << \"Error was: \" << err3 << std::endl;\n",
    "std::cout << \"Approximated value: (\" << ans4.x << \", \" << ans4.y << \")\" << std::endl;\n",
    "std::cout << \"Error was: \" << err4 << std::endl;"
   ]
  },
  {
   "cell_type": "code",
   "execution_count": null,
   "metadata": {},
   "outputs": [],
   "source": [
    "%timeit -n 10 -r 1 -p 6 rk1(DE, h.value(), ivp, target.value());"
   ]
  },
  {
   "cell_type": "markdown",
   "metadata": {},
   "source": [
    "Approximating"
   ]
  },
  {
   "cell_type": "code",
   "execution_count": null,
   "metadata": {},
   "outputs": [],
   "source": []
  }
 ],
 "metadata": {
  "kernelspec": {
   "display_name": "C++14",
   "language": "C++14",
   "name": "xcpp14"
  },
  "language_info": {
   "codemirror_mode": "text/x-c++src",
   "file_extension": ".cpp",
   "mimetype": "text/x-c++src",
   "name": "c++",
   "version": "-std=c++14"
  }
 },
 "nbformat": 4,
 "nbformat_minor": 2
}
